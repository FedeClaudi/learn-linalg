{
 "cells": [
  {
   "cell_type": "code",
   "execution_count": 185,
   "metadata": {},
   "outputs": [],
   "source": [
    "import os\n",
    "import pickle\n",
    "import numpy as np\n",
    "import matplotlib.pyplot as plt\n",
    "\n",
    "from imutils import img2array, array2img\n",
    "from cholesky import Cholesky"
   ]
  },
  {
   "cell_type": "code",
   "execution_count": 186,
   "metadata": {},
   "outputs": [],
   "source": [
    "def process(coords):\n",
    "    \"\"\"\n",
    "    Process the coordinates as:\n",
    "\n",
    "    - y: the coordinates of the crooked image\n",
    "    - x: the coordinates of the reference image\n",
    "    \"\"\"\n",
    "    x = [[l[0][0], l[0][1]] for l in coords]\n",
    "    y = [[l[1][0], l[1][1]] for l in coords]\n",
    "\n",
    "    x = np.array(x)\n",
    "    y = np.array(y)\n",
    "    \n",
    "    # homogenize coordinates\n",
    "    y = np.append(y, np.ones((y.shape[0],1)), axis=1)\n",
    "\n",
    "    return x, y"
   ]
  },
  {
   "cell_type": "code",
   "execution_count": 187,
   "metadata": {},
   "outputs": [],
   "source": [
    "# read the pickle dump and process\n",
    "coords = pickle.load(open(\"./dump/coords.p\", \"rb\"))\n",
    "x, y = process(coords)"
   ]
  },
  {
   "cell_type": "code",
   "execution_count": 188,
   "metadata": {},
   "outputs": [
    {
     "name": "stdout",
     "output_type": "stream",
     "text": [
      "[[ 411.11290323  260.95519713]\n",
      " [ 535.70071685  284.61111111]\n",
      " [ 518.35304659  286.18817204]\n",
      " [ 310.18100358   29.12724014]\n",
      " [ 786.45340502  536.94086022]]\n",
      "\n",
      "\n",
      "[[ 540.86200717  407.6218638     1.        ]\n",
      " [ 515.62903226  532.20967742    1.        ]\n",
      " [ 512.47491039  516.4390681     1.        ]\n",
      " [ 774.26702509  311.42114695    1.        ]\n",
      " [ 261.72222222  784.53942652    1.        ]]\n"
     ]
    }
   ],
   "source": [
    "print(x)\n",
    "print(\"\\n\")\n",
    "print(y)"
   ]
  },
  {
   "cell_type": "code",
   "execution_count": 189,
   "metadata": {},
   "outputs": [
    {
     "name": "stdout",
     "output_type": "stream",
     "text": [
      "(5, 2)\n",
      "(5, 3)\n"
     ]
    }
   ],
   "source": [
    "print(x.shape)\n",
    "print(y.shape)"
   ]
  },
  {
   "cell_type": "code",
   "execution_count": 190,
   "metadata": {},
   "outputs": [],
   "source": [
    "num_pts = y.shape[0]\n",
    "\n",
    "C = []\n",
    "for i in range(num_pts):\n",
    "    C.append(np.hstack([y[i], np.zeros(3).T]))\n",
    "    C.append(np.hstack([np.zeros(3).T, y[i]]))\n",
    "C = np.array(C)"
   ]
  },
  {
   "cell_type": "code",
   "execution_count": 191,
   "metadata": {},
   "outputs": [],
   "source": [
    "d = x.flatten()"
   ]
  },
  {
   "cell_type": "code",
   "execution_count": 193,
   "metadata": {},
   "outputs": [
    {
     "data": {
      "text/plain": [
       "array([[ 540.86200717,  407.6218638 ,    1.        ,    0.        ,\n",
       "           0.        ,    0.        ],\n",
       "       [   0.        ,    0.        ,    0.        ,  540.86200717,\n",
       "         407.6218638 ,    1.        ],\n",
       "       [ 515.62903226,  532.20967742,    1.        ,    0.        ,\n",
       "           0.        ,    0.        ],\n",
       "       [   0.        ,    0.        ,    0.        ,  515.62903226,\n",
       "         532.20967742,    1.        ],\n",
       "       [ 512.47491039,  516.4390681 ,    1.        ,    0.        ,\n",
       "           0.        ,    0.        ],\n",
       "       [   0.        ,    0.        ,    0.        ,  512.47491039,\n",
       "         516.4390681 ,    1.        ],\n",
       "       [ 774.26702509,  311.42114695,    1.        ,    0.        ,\n",
       "           0.        ,    0.        ],\n",
       "       [   0.        ,    0.        ,    0.        ,  774.26702509,\n",
       "         311.42114695,    1.        ],\n",
       "       [ 261.72222222,  784.53942652,    1.        ,    0.        ,\n",
       "           0.        ,    0.        ],\n",
       "       [   0.        ,    0.        ,    0.        ,  261.72222222,\n",
       "         784.53942652,    1.        ]])"
      ]
     },
     "execution_count": 193,
     "metadata": {},
     "output_type": "execute_result"
    }
   ],
   "source": [
    "C"
   ]
  },
  {
   "cell_type": "code",
   "execution_count": 192,
   "metadata": {},
   "outputs": [
    {
     "data": {
      "text/plain": [
       "array([ 411.11290323,  260.95519713,  535.70071685,  284.61111111,\n",
       "        518.35304659,  286.18817204,  310.18100358,   29.12724014,\n",
       "        786.45340502,  536.94086022])"
      ]
     },
     "execution_count": 192,
     "metadata": {},
     "output_type": "execute_result"
    }
   ],
   "source": [
    "d"
   ]
  },
  {
   "cell_type": "code",
   "execution_count": 169,
   "metadata": {},
   "outputs": [],
   "source": [
    "A = np.dot(C.T, C)\n",
    "b = np.dot(C.T, d)"
   ]
  },
  {
   "cell_type": "code",
   "execution_count": 170,
   "metadata": {},
   "outputs": [],
   "source": [
    "M = Cholesky(A).solve(b)"
   ]
  },
  {
   "cell_type": "code",
   "execution_count": 171,
   "metadata": {},
   "outputs": [
    {
     "data": {
      "text/plain": [
       "array([ -2.76724623e-02,   9.76770848e-01,   2.81883168e+01,\n",
       "        -9.95933723e-01,  -5.79152826e-03,   8.01393325e+02])"
      ]
     },
     "execution_count": 171,
     "metadata": {},
     "output_type": "execute_result"
    }
   ],
   "source": [
    "M"
   ]
  },
  {
   "cell_type": "code",
   "execution_count": 172,
   "metadata": {},
   "outputs": [],
   "source": [
    "M = M.reshape(2, 3)"
   ]
  },
  {
   "cell_type": "code",
   "execution_count": 173,
   "metadata": {},
   "outputs": [],
   "source": [
    "cat_dir = './imgs/'\n",
    "filepath = os.path.join(cat_dir, 'crooked_cat.png')\n",
    "img = img2array(filepath, desired_size=(1000, 1000))"
   ]
  },
  {
   "cell_type": "code",
   "execution_count": 174,
   "metadata": {},
   "outputs": [
    {
     "data": {
      "text/plain": [
       "(1000, 1000, 3)"
      ]
     },
     "execution_count": 174,
     "metadata": {},
     "output_type": "execute_result"
    }
   ],
   "source": [
    "img.shape"
   ]
  },
  {
   "cell_type": "code",
   "execution_count": 175,
   "metadata": {},
   "outputs": [],
   "source": [
    "height = 1000\n",
    "width = 1000"
   ]
  },
  {
   "cell_type": "code",
   "execution_count": 176,
   "metadata": {},
   "outputs": [],
   "source": [
    "def affine_grid_generator(height, width, M):\n",
    "    \"\"\"\n",
    "    This function returns a sampling grid, which when\n",
    "    used with the bilinear sampler on the input img,\n",
    "    will create an output img that is an affine \n",
    "    transformation of the input.\n",
    "\n",
    "    Input\n",
    "    -----\n",
    "    - M: affine transform matrices of shape (2, 3).\n",
    "    - height: height of the input img.\n",
    "    - width: width of the input img.\n",
    "\n",
    "    Returns\n",
    "    -------\n",
    "    - normalized grid (-1, 1) of shape (H, W, 2).\n",
    "      The 3rd dimension has 2 components: (x, y) which are the \n",
    "      sampling points of the original image for each point in the\n",
    "      target image.\n",
    "    \"\"\"\n",
    "    # create normalized 2D grid\n",
    "    x = np.linspace(-1, 1, width)\n",
    "    y = np.linspace(-1, 1, height)\n",
    "    x_t, y_t = np.meshgrid(x, y)\n",
    "\n",
    "    # convert to homogeneous coordinates\n",
    "    ones = np.ones(np.prod(x_t.shape))\n",
    "    sampling_grid = np.vstack([x_t.flatten(), y_t.flatten(), ones])\n",
    "    \n",
    "    # affine transform sampling grid\n",
    "    affine_grid = np.dot(M, sampling_grid)\n",
    "    # affine grid has shape (2, H*W)\n",
    "    \n",
    "    # reshape to (H, W, 2)\n",
    "    affine_grid = affine_grid.reshape(2, height, width)\n",
    "    # affine_grid = np.moveaxis(affine_grid, 1, -1)\n",
    "\n",
    "    # sanity check\n",
    "    print(\"Transformation Matrix: {}\".format(M.shape))\n",
    "    print(\"Sampling Grid: {}\".format(sampling_grid.shape))\n",
    "    print(\"Affine Grid: {}\".format(affine_grid.shape))\n",
    "    \n",
    "    return affine_grid\n",
    "\n",
    "def bilinear_sampler(input_img, x, y):\n",
    "    \"\"\"\n",
    "    Performs bilinear sampling of the input img according to the \n",
    "    normalized coordinates provided by the sampling grid. Note that \n",
    "    the sampling is done identically for each channel of the input.\n",
    "\n",
    "    To test if the function works properly, output image should be\n",
    "    identical to input image when M is initialized to identity\n",
    "    transform.\n",
    "\n",
    "    Input\n",
    "    -----\n",
    "    - input_img: numpy array of shape (H, W, C).\n",
    "    - grid: x, y which is the output of affine_grid_generator.\n",
    "\n",
    "    Returns\n",
    "    -------\n",
    "    - interpolated img according to grid.\n",
    "    \"\"\"\n",
    "    # grab dimensions\n",
    "    H, W, C = input_img.shape\n",
    "\n",
    "    # rescale x and y to [0, W/H]\n",
    "    x = ((x + 1.) * W) * 0.5\n",
    "    y = ((y + 1.) * H) * 0.5\n",
    "\n",
    "    # grab 4 nearest corner points for each (x_i, y_i)\n",
    "    x0 = np.floor(x).astype(np.int64)\n",
    "    x1 = x0 + 1\n",
    "    y0 = np.floor(y).astype(np.int64)\n",
    "    y1 = y0 + 1\n",
    "\n",
    "    # make sure it's inside img range [0, H] or [0, W]\n",
    "    x0 = np.clip(x0, 0, W-1)\n",
    "    x1 = np.clip(x1, 0, W-1)\n",
    "    y0 = np.clip(y0, 0, H-1)\n",
    "    y1 = np.clip(y1, 0, H-1)\n",
    "\n",
    "    # look up pixel values at corner coords\n",
    "    Ia = input_img[y0, x0]\n",
    "    Ib = input_img[y1, x0]\n",
    "    Ic = input_img[y0, x1]\n",
    "    Id = input_img[y1, x1]\n",
    "\n",
    "    # calculate deltas\n",
    "    wa = (x1-x) * (y1-y)\n",
    "    wb = (x1-x) * (y-y0)\n",
    "    wc = (x-x0) * (y1-y)\n",
    "    wd = (x-x0) * (y-y0)\n",
    "\n",
    "    # add dimension for addition\n",
    "    wa = np.expand_dims(wa, axis=2)\n",
    "    wb = np.expand_dims(wb, axis=2)\n",
    "    wc = np.expand_dims(wc, axis=2)\n",
    "    wd = np.expand_dims(wd, axis=2)\n",
    "\n",
    "    # compute output\n",
    "    out = wa*Ia + wb*Ib + wc*Ic + wd*Id\n",
    "\n",
    "    return out"
   ]
  },
  {
   "cell_type": "code",
   "execution_count": 177,
   "metadata": {},
   "outputs": [],
   "source": [
    "M = np.reshape(M, [2, 3])"
   ]
  },
  {
   "cell_type": "code",
   "execution_count": 178,
   "metadata": {},
   "outputs": [
    {
     "name": "stdout",
     "output_type": "stream",
     "text": [
      "Transformation Matrix: (2, 3)\n",
      "Sampling Grid: (3, 1000000)\n",
      "Affine Grid: (2, 1000, 1000)\n"
     ]
    }
   ],
   "source": [
    "affine_grid = affine_grid_generator(1000, 1000, M)"
   ]
  },
  {
   "cell_type": "code",
   "execution_count": 179,
   "metadata": {},
   "outputs": [],
   "source": [
    "x_s = affine_grid[0:1, :].squeeze()\n",
    "y_s = affine_grid[1:2, :].squeeze()"
   ]
  },
  {
   "cell_type": "code",
   "execution_count": 180,
   "metadata": {},
   "outputs": [
    {
     "data": {
      "image/png": "[encoded data removed]",
      "text/plain": [
       "<matplotlib.figure.Figure at 0x10f6ff400>"
      ]
     },
     "metadata": {},
     "output_type": "display_data"
    }
   ],
   "source": [
    "out = bilinear_sampler(img, x_s, y_s)\n",
    "plt.imshow(out)\n",
    "plt.show()"
   ]
  }
 ],
 "metadata": {
  "kernelspec": {
   "display_name": "Python 3",
   "language": "python",
   "name": "python3"
  },
  "language_info": {
   "codemirror_mode": {
    "name": "ipython",
    "version": 3
   },
   "file_extension": ".py",
   "mimetype": "text/x-python",
   "name": "python",
   "nbconvert_exporter": "python",
   "pygments_lexer": "ipython3",
   "version": "3.6.3"
  }
 },
 "nbformat": 4,
 "nbformat_minor": 2
}
