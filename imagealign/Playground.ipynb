{
 "cells": [
  {
   "cell_type": "code",
   "execution_count": 5,
   "metadata": {},
   "outputs": [],
   "source": [
    "import os\n",
    "import pickle\n",
    "import numpy as np\n",
    "import matplotlib.pyplot as plt\n",
    "\n",
    "from cholesky import Cholesky\n",
    "from imutils import img2array, array2img, load_coords, homogenize\n",
    "from interpolation import affine_grid_generator, bilinear_sampler\n",
    "\n",
    "plt.rcParams['figure.figsize'] = (9.0, 9.0)"
   ]
  },
  {
   "cell_type": "code",
   "execution_count": 6,
   "metadata": {},
   "outputs": [],
   "source": [
    "switch = False"
   ]
  },
  {
   "cell_type": "code",
   "execution_count": 7,
   "metadata": {},
   "outputs": [
    {
     "name": "stdout",
     "output_type": "stream",
     "text": [
      "y: (9, 3)\n",
      "x: (9, 2)\n"
     ]
    }
   ],
   "source": [
    "# load and homogenize coordinates \n",
    "x, y = load_coords('coords.p')\n",
    "\n",
    "if switch:\n",
    "    x = homogenize(x)\n",
    "else:\n",
    "    y = homogenize(y)\n",
    "\n",
    "print(\"y: {}\".format(y.shape))\n",
    "print(\"x: {}\".format(x.shape))"
   ]
  },
  {
   "cell_type": "code",
   "execution_count": 8,
   "metadata": {},
   "outputs": [
    {
     "name": "stdout",
     "output_type": "stream",
     "text": [
      "P: (18, 6)\n",
      "Q: (18,)\n"
     ]
    }
   ],
   "source": [
    "# create P array\n",
    "num_pts = y.shape[0]\n",
    "\n",
    "if switch:\n",
    "    P = []\n",
    "    for i in range(num_pts):\n",
    "        P.append(np.hstack([x[i], np.zeros(3).T]))\n",
    "        P.append(np.hstack([np.zeros(3).T, x[i]]))\n",
    "    P = np.array(P)\n",
    "    Q = y.flatten()\n",
    "\n",
    "else:\n",
    "    P = []\n",
    "    for i in range(num_pts):\n",
    "        P.append(np.hstack([y[i], np.zeros(3).T]))\n",
    "        P.append(np.hstack([np.zeros(3).T, y[i]]))\n",
    "    P = np.array(P)   \n",
    "    Q = x.flatten()\n",
    "\n",
    "print(\"P: {}\".format(P.shape))\n",
    "print(\"Q: {}\".format(Q.shape))"
   ]
  },
  {
   "cell_type": "code",
   "execution_count": 9,
   "metadata": {},
   "outputs": [],
   "source": [
    "M = Cholesky(np.dot(P.T, P)).solve(np.dot(P.T, Q))\n",
    "M = M.reshape(2, 3)\n",
    "M[np.abs(M) < 1e-10] = 0"
   ]
  },
  {
   "cell_type": "code",
   "execution_count": null,
   "metadata": {},
   "outputs": [],
   "source": [
    "M"
   ]
  },
  {
   "cell_type": "code",
   "execution_count": null,
   "metadata": {},
   "outputs": [],
   "source": [
    "M[0, 2]=0\n",
    "M[1, 2]=0"
   ]
  },
  {
   "cell_type": "code",
   "execution_count": null,
   "metadata": {},
   "outputs": [],
   "source": [
    "# going from x to y\n",
    "\n",
    "# zoom out\n",
    "H1 = np.array([[1.5, 0], [0, 1.5]])\n",
    "\n",
    "# rotate by -45\n",
    "H2 = np.array([[0.707, -0.707], [0.707, 0.707]])\n",
    "\n",
    "# combine\n",
    "H = np.dot(H2, H1)\n",
    "\n",
    "# make affine\n",
    "zeros = np.zeros((H.shape[0], 1), dtype=H.dtype)\n",
    "H = np.append(H, zeros, axis=1)\n",
    "print(H)"
   ]
  },
  {
   "cell_type": "code",
   "execution_count": null,
   "metadata": {},
   "outputs": [],
   "source": [
    "img = img2array('./imgs/crooked_cat.png', desired_size=(800, 800))\n",
    "\n",
    "affine_grid = affine_grid_generator(800, 800, M)\n",
    "\n",
    "x_s = affine_grid[0:1, :].squeeze()\n",
    "y_s = affine_grid[1:2, :].squeeze()\n",
    "\n",
    "out = bilinear_sampler(img, x_s, y_s)\n",
    "out = np.clip(out, 0, 1)"
   ]
  },
  {
   "cell_type": "code",
   "execution_count": null,
   "metadata": {},
   "outputs": [],
   "source": [
    "fig, ax = plt.subplots(nrows=1, ncols=2)\n",
    "\n",
    "ax[0].imshow(img)\n",
    "ax[0].get_xaxis().set_visible(False)\n",
    "ax[0].get_yaxis().set_visible(False)\n",
    "ax[0].set_title(\"Crooked\")\n",
    "ax[1].imshow(out)\n",
    "ax[1].get_xaxis().set_visible(False)\n",
    "ax[1].get_yaxis().set_visible(False)\n",
    "ax[1].set_title(\"Fixed\")\n",
    "\n",
    "plt.show()"
   ]
  },
  {
   "cell_type": "code",
   "execution_count": null,
   "metadata": {},
   "outputs": [],
   "source": [
    "def inv_trans(M):\n",
    "    row = np.zeros((1, M.shape[1]), dtype=M.dtype)\n",
    "    row[-1] = 1\n",
    "    M = np.append(M, row, axis=0)\n",
    "    return np.linalg.inv(M)[0:2, :]"
   ]
  }
 ],
 "metadata": {
  "kernelspec": {
   "display_name": "Python 3",
   "language": "python",
   "name": "python3"
  },
  "language_info": {
   "codemirror_mode": {
    "name": "ipython",
    "version": 3
   },
   "file_extension": ".py",
   "mimetype": "text/x-python",
   "name": "python",
   "nbconvert_exporter": "python",
   "pygments_lexer": "ipython3",
   "version": "3.6.3"
  }
 },
 "nbformat": 4,
 "nbformat_minor": 2
}
