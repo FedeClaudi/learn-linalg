{
 "cells": [
  {
   "cell_type": "code",
   "execution_count": 1,
   "metadata": {},
   "outputs": [],
   "source": [
    "import numpy as np\n",
    "from utils import *\n",
    "from row_ops import *"
   ]
  },
  {
   "cell_type": "code",
   "execution_count": 22,
   "metadata": {},
   "outputs": [
    {
     "name": "stdout",
     "output_type": "stream",
     "text": [
      "[[  4  12 -16]\n",
      " [ 12  37 -43]\n",
      " [-16 -43  98]]\n"
     ]
    }
   ],
   "source": [
    "# a symmetric matrix\n",
    "# A = np.array([[2, 7, 3, 2], [7, 4, 3, 7], [3, 3, 6, 3], [2, 7, 3, 2]])\n",
    "R = np.array([[4, 12, -16], [12, 37, -43], [-16, -43, 98]])\n",
    "N = len(R)\n",
    "print(R)"
   ]
  },
  {
   "cell_type": "code",
   "execution_count": 26,
   "metadata": {},
   "outputs": [],
   "source": [
    "E = eliminate(3, 0, [-12/4, 16/4], [1, 2])"
   ]
  },
  {
   "cell_type": "code",
   "execution_count": 27,
   "metadata": {},
   "outputs": [
    {
     "data": {
      "text/plain": [
       "array([[ 1.,  0.,  0.],\n",
       "       [-3.,  1.,  0.],\n",
       "       [ 4.,  0.,  1.]])"
      ]
     },
     "execution_count": 27,
     "metadata": {},
     "output_type": "execute_result"
    }
   ],
   "source": [
    "E"
   ]
  },
  {
   "cell_type": "code",
   "execution_count": 28,
   "metadata": {},
   "outputs": [
    {
     "data": {
      "text/plain": [
       "array([[  4.,  12., -16.],\n",
       "       [  0.,   1.,   5.],\n",
       "       [  0.,   5.,  34.]])"
      ]
     },
     "execution_count": 28,
     "metadata": {},
     "output_type": "execute_result"
    }
   ],
   "source": [
    "np.dot(np.dot(E, R)"
   ]
  },
  {
   "cell_type": "code",
   "execution_count": null,
   "metadata": {},
   "outputs": [],
   "source": [
    "-3, 4"
   ]
  },
  {
   "cell_type": "code",
   "execution_count": null,
   "metadata": {},
   "outputs": [],
   "source": [
    "-3 / ()"
   ]
  },
  {
   "cell_type": "code",
   "execution_count": null,
   "metadata": {},
   "outputs": [],
   "source": []
  },
  {
   "cell_type": "code",
   "execution_count": 29,
   "metadata": {},
   "outputs": [
    {
     "data": {
      "text/plain": [
       "array([[  4,  12, -16],\n",
       "       [  0,  37, -43],\n",
       "       [  0,   0,  98]])"
      ]
     },
     "execution_count": 29,
     "metadata": {},
     "output_type": "execute_result"
    }
   ],
   "source": [
    "A = np.array(R)\n",
    "A = upper_diag(A, diag=True)\n",
    "A"
   ]
  },
  {
   "cell_type": "code",
   "execution_count": 30,
   "metadata": {},
   "outputs": [
    {
     "name": "stdout",
     "output_type": "stream",
     "text": [
      "iter: 0\n",
      "eliminating row: 1\n",
      "eliminating 37 using 3.0\n",
      "eliminating -43 using 3.0\n",
      "eliminating row: 2\n",
      "eliminating 98 using -4.0\n",
      "[[  4  12 -16]\n",
      " [  0   1   5]\n",
      " [  0   0  34]]\n",
      "scaling: 4\n",
      "scaling: 12\n",
      "scaling: -16\n",
      "[[ 2  6 -8]\n",
      " [ 0  1  5]\n",
      " [ 0  0 34]]\n",
      "\n",
      "\n",
      "iter: 1\n",
      "eliminating row: 2\n",
      "eliminating 34 using 5.0\n",
      "[[ 2  6 -8]\n",
      " [ 0  1  5]\n",
      " [ 0  0  9]]\n",
      "scaling: 1\n",
      "scaling: 5\n",
      "[[ 2  6 -8]\n",
      " [ 0  1  5]\n",
      " [ 0  0  9]]\n",
      "\n",
      "\n",
      "iter: 2\n",
      "[[ 2  6 -8]\n",
      " [ 0  1  5]\n",
      " [ 0  0  9]]\n",
      "scaling: 9\n",
      "[[ 2  6 -8]\n",
      " [ 0  1  5]\n",
      " [ 0  0  3]]\n",
      "\n",
      "\n"
     ]
    }
   ],
   "source": [
    "for k in range(N):\n",
    "    print(\"iter: {}\".format(k))\n",
    "    pivot = A[k, k]\n",
    "    # eliminate column\n",
    "    for j in range(k+1, N):\n",
    "        print(\"eliminating row: {}\".format(j))\n",
    "        for i in range(j, N):\n",
    "            print(\"eliminating {} using {}\".format(A[j, i], (A[k, j] / pivot)))\n",
    "            A[j, i] -= A[k, i]*(A[k, j] / pivot)\n",
    "    print(A)\n",
    "    # scale row\n",
    "    for i in range(k, N):\n",
    "        print(\"scaling: {}\".format(A[k, i]))\n",
    "        A[k, i] /= np.sqrt(pivot)\n",
    "    print(A)\n",
    "    print(\"\\n\")"
   ]
  },
  {
   "cell_type": "code",
   "execution_count": 5,
   "metadata": {},
   "outputs": [
    {
     "data": {
      "text/plain": [
       "array([[ 2,  0,  0],\n",
       "       [ 6,  1,  0],\n",
       "       [-8,  5,  3]])"
      ]
     },
     "execution_count": 5,
     "metadata": {},
     "output_type": "execute_result"
    }
   ],
   "source": [
    "A.T"
   ]
  },
  {
   "cell_type": "code",
   "execution_count": 24,
   "metadata": {},
   "outputs": [
    {
     "data": {
      "text/plain": [
       "array([[ 2.,  0.,  0.],\n",
       "       [ 6.,  1.,  0.],\n",
       "       [-8.,  5.,  3.]])"
      ]
     },
     "execution_count": 24,
     "metadata": {},
     "output_type": "execute_result"
    }
   ],
   "source": [
    "np.linalg.cholesky(R)"
   ]
  },
  {
   "cell_type": "code",
   "execution_count": null,
   "metadata": {},
   "outputs": [],
   "source": [
    "R"
   ]
  },
  {
   "cell_type": "code",
   "execution_count": null,
   "metadata": {},
   "outputs": [],
   "source": [
    "# k = 0\n",
    "# j from 1 to 3\n",
    "\n",
    "R[1, 1:3] = R[1, 1:3] - R[0, 1:3]R[0, 1]/R[0, 0]"
   ]
  },
  {
   "cell_type": "code",
   "execution_count": null,
   "metadata": {},
   "outputs": [],
   "source": []
  },
  {
   "cell_type": "code",
   "execution_count": null,
   "metadata": {},
   "outputs": [],
   "source": []
  },
  {
   "cell_type": "code",
   "execution_count": null,
   "metadata": {},
   "outputs": [],
   "source": []
  },
  {
   "cell_type": "code",
   "execution_count": null,
   "metadata": {},
   "outputs": [],
   "source": []
  },
  {
   "cell_type": "code",
   "execution_count": null,
   "metadata": {},
   "outputs": [],
   "source": []
  },
  {
   "cell_type": "code",
   "execution_count": null,
   "metadata": {},
   "outputs": [],
   "source": []
  },
  {
   "cell_type": "code",
   "execution_count": null,
   "metadata": {},
   "outputs": [],
   "source": [
    "is_symmetric(A)"
   ]
  },
  {
   "cell_type": "code",
   "execution_count": null,
   "metadata": {},
   "outputs": [],
   "source": [
    "chol = Cholesky(A)"
   ]
  },
  {
   "cell_type": "code",
   "execution_count": null,
   "metadata": {},
   "outputs": [],
   "source": [
    "L = chol.decompose()"
   ]
  },
  {
   "cell_type": "code",
   "execution_count": null,
   "metadata": {},
   "outputs": [],
   "source": [
    "L"
   ]
  },
  {
   "cell_type": "code",
   "execution_count": null,
   "metadata": {},
   "outputs": [],
   "source": [
    "np.linalg.cholesky(A)"
   ]
  },
  {
   "cell_type": "code",
   "execution_count": null,
   "metadata": {},
   "outputs": [],
   "source": []
  },
  {
   "cell_type": "code",
   "execution_count": null,
   "metadata": {},
   "outputs": [],
   "source": [
    "E = eliminate(4, 0, [-7/2, -3/2, -2/2], [1, 2, 3])"
   ]
  },
  {
   "cell_type": "code",
   "execution_count": null,
   "metadata": {},
   "outputs": [],
   "source": [
    "E"
   ]
  },
  {
   "cell_type": "code",
   "execution_count": null,
   "metadata": {},
   "outputs": [],
   "source": [
    "S = scale(4, [(0, 1/np.sqrt(A[0,0]))])"
   ]
  },
  {
   "cell_type": "code",
   "execution_count": null,
   "metadata": {},
   "outputs": [],
   "source": [
    "np.dot(S, E)"
   ]
  },
  {
   "cell_type": "code",
   "execution_count": null,
   "metadata": {},
   "outputs": [],
   "source": []
  },
  {
   "cell_type": "code",
   "execution_count": null,
   "metadata": {},
   "outputs": [],
   "source": []
  },
  {
   "cell_type": "code",
   "execution_count": null,
   "metadata": {},
   "outputs": [],
   "source": []
  },
  {
   "cell_type": "code",
   "execution_count": null,
   "metadata": {},
   "outputs": [],
   "source": []
  },
  {
   "cell_type": "code",
   "execution_count": null,
   "metadata": {},
   "outputs": [],
   "source": [
    "# a hermitian matrix\n",
    "A = np.array([[2, 2+1j, 4], [2-1j, 3, 1j], [4, -1j, 1]])"
   ]
  },
  {
   "cell_type": "code",
   "execution_count": null,
   "metadata": {},
   "outputs": [],
   "source": [
    "A"
   ]
  },
  {
   "cell_type": "code",
   "execution_count": null,
   "metadata": {},
   "outputs": [],
   "source": [
    "is_hermitian(A)"
   ]
  },
  {
   "cell_type": "code",
   "execution_count": null,
   "metadata": {},
   "outputs": [],
   "source": [
    "x = np.array([2+1j, 1+1j, 0+1j])\n",
    "y = np.array([2, -1j, 3j])"
   ]
  },
  {
   "cell_type": "code",
   "execution_count": null,
   "metadata": {},
   "outputs": [],
   "source": [
    "# x*Ay = y*Ax\n",
    "np.dot(np.dot(herm(x), A), y)"
   ]
  },
  {
   "cell_type": "code",
   "execution_count": null,
   "metadata": {},
   "outputs": [],
   "source": [
    "np.dot(np.dot(herm(y), A), x).conj()"
   ]
  },
  {
   "cell_type": "code",
   "execution_count": null,
   "metadata": {},
   "outputs": [],
   "source": [
    "# this should be a real number\n",
    "np.dot(np.dot(herm(x), A), x)"
   ]
  },
  {
   "cell_type": "code",
   "execution_count": null,
   "metadata": {},
   "outputs": [],
   "source": []
  },
  {
   "cell_type": "code",
   "execution_count": null,
   "metadata": {},
   "outputs": [],
   "source": [
    "# transpose of lower is upper\n",
    "l = np.array([[1, 0, 0], [2, 1, 0], [-2, 3, 1]])\n",
    "l"
   ]
  },
  {
   "cell_type": "code",
   "execution_count": null,
   "metadata": {},
   "outputs": [],
   "source": [
    "l.T"
   ]
  },
  {
   "cell_type": "code",
   "execution_count": null,
   "metadata": {},
   "outputs": [],
   "source": []
  },
  {
   "cell_type": "code",
   "execution_count": null,
   "metadata": {},
   "outputs": [],
   "source": []
  },
  {
   "cell_type": "code",
   "execution_count": null,
   "metadata": {},
   "outputs": [],
   "source": []
  },
  {
   "cell_type": "code",
   "execution_count": null,
   "metadata": {},
   "outputs": [],
   "source": []
  },
  {
   "cell_type": "code",
   "execution_count": null,
   "metadata": {},
   "outputs": [],
   "source": []
  },
  {
   "cell_type": "code",
   "execution_count": null,
   "metadata": {},
   "outputs": [],
   "source": [
    "scalars = [(0, 1/np.sqrt(A[0,0]))]"
   ]
  },
  {
   "cell_type": "code",
   "execution_count": null,
   "metadata": {},
   "outputs": [],
   "source": [
    "scalars"
   ]
  },
  {
   "cell_type": "code",
   "execution_count": null,
   "metadata": {},
   "outputs": [],
   "source": [
    "# check if list is nested\n",
    "nested = any(isinstance(i, (tuple, list)) for i in scalars)"
   ]
  },
  {
   "cell_type": "code",
   "execution_count": null,
   "metadata": {},
   "outputs": [],
   "source": [
    "nested"
   ]
  },
  {
   "cell_type": "code",
   "execution_count": null,
   "metadata": {},
   "outputs": [],
   "source": [
    "# check if list is nested\n",
    "nested = any(isinstance(i, (tuple, list)) for i in scalars)\n",
    "\n",
    "# convert to standard form\n",
    "if nested:\n",
    "\n",
    "    row_nums = [i[0] for i in scalars]\n",
    "    row_scalars = [i[1] for i in scalars]\n",
    "\n",
    "    # ensure that row numbers do not exceed length of A\n",
    "    error_msg = \"[!] Indices cannot exceed {}.\".format(N)\n",
    "    assert (np.max(row_nums) < N), error_msg\n",
    "\n",
    "    scalars = [1] * N\n",
    "    for row, scalar in zip(row_nums, row_scalars):\n",
    "        scalars[row] = scalar\n",
    "\n",
    "# ensure that scalars are non zero\n",
    "error_msg = \"[!] Scalars cannot be 0.\"\n",
    "print(scalars)\n",
    "assert (0. not in scalars), error_msg\n",
    "\n",
    "# construct scaling matrix\n",
    "S = np.diag(scalars)"
   ]
  }
 ],
 "metadata": {
  "kernelspec": {
   "display_name": "Python 3",
   "language": "python",
   "name": "python3"
  },
  "language_info": {
   "codemirror_mode": {
    "name": "ipython",
    "version": 3
   },
   "file_extension": ".py",
   "mimetype": "text/x-python",
   "name": "python",
   "nbconvert_exporter": "python",
   "pygments_lexer": "ipython3",
   "version": "3.6.3"
  }
 },
 "nbformat": 4,
 "nbformat_minor": 2
}
